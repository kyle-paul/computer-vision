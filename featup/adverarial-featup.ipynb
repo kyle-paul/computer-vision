{
 "cells": [
  {
   "cell_type": "markdown",
   "metadata": {},
   "source": [
    "# FeatUp: A Model-agnostic Framework for features at any Resolution\n"
   ]
  },
  {
   "cell_type": "markdown",
   "metadata": {},
   "source": [
    "# Adversarial featup\n",
    "High-res features: $f_{hr} = \\sigma \\uparrow(f(t(x)), x) \\rightarrow$ Reproduce low-resolution features after transform: $\\hat{z} = \\sigma \\downarrow(t(f_{hr}))$.\n",
    "\n",
    "Downsampler $\\sigma_\\downarrow$ is either Blur or Attention. \\\n",
    "Upsampler $\\sigma_\\uparrow$ is either JBU or Implicit. \n",
    "\n",
    "The objective of Gaussian Log Loss $G$ is to minimize the difference between $z=f(t(x))$ and $\\hat{z}$. \\\n",
    "Use a discriminator $D$ to classify $z$ and $\\hat{z}$ and we want to maximize the difference.\n",
    "Therefore we have Adversarial version for this Featup $\\rightarrow$ value function:\n",
    "$$\n",
    "\\min_{G} \\max_{D} V(G,D) = log(D(f(t(x)))) + log(1 - D(\\sigma \\downarrow(t(f_{hr}))))\n",
    "$$"
   ]
  }
 ],
 "metadata": {
  "language_info": {
   "name": "python"
  }
 },
 "nbformat": 4,
 "nbformat_minor": 2
}
