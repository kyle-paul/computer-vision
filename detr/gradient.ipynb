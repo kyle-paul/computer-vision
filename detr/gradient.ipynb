{
 "cells": [
  {
   "cell_type": "code",
   "execution_count": 1,
   "metadata": {},
   "outputs": [],
   "source": [
    "import torch"
   ]
  },
  {
   "cell_type": "code",
   "execution_count": 2,
   "metadata": {},
   "outputs": [
    {
     "name": "stdout",
     "output_type": "stream",
     "text": [
      "tensor([True, True])\n",
      "tensor([True, True])\n"
     ]
    }
   ],
   "source": [
    "a = torch.tensor([2., 3.], requires_grad=True)\n",
    "b = torch.tensor([6., 4.], requires_grad=True)\n",
    "Q = 3*a**3 - b**2\n",
    "\n",
    "external_grad = torch.tensor([1., 1.])\n",
    "Q.backward(gradient=external_grad)\n",
    "\n",
    "print(9*a**2 == a.grad)\n",
    "print(-2*b == b.grad)"
   ]
  },
  {
   "cell_type": "markdown",
   "metadata": {},
   "source": [
    "### Linear Jacobian"
   ]
  },
  {
   "cell_type": "code",
   "execution_count": 5,
   "metadata": {},
   "outputs": [
    {
     "name": "stdout",
     "output_type": "stream",
     "text": [
      "tensor([[194.,  54., 233., 135.]], requires_grad=True)\n",
      "tensor([[0.3074, 0.6341],\n",
      "        [0.4901, 0.8964],\n",
      "        [0.4556, 0.6323],\n",
      "        [0.3489, 0.4017]], requires_grad=True)\n"
     ]
    }
   ],
   "source": [
    "torch.manual_seed(0)\n",
    "x = torch.randint(low=0, high=255, size=(1, 4), dtype=torch.float32, requires_grad=True)\n",
    "w = torch.rand((4, 2), requires_grad=True)\n",
    "\n",
    "print(x)\n",
    "print(w)\n",
    "\n",
    "y = x @ w\n",
    "y.backward(gradient=torch.ones(1, 2))\n",
    "x.grad"
   ]
  },
  {
   "cell_type": "code",
   "execution_count": 6,
   "metadata": {},
   "outputs": [
    {
     "name": "stdout",
     "output_type": "stream",
     "text": [
      "Jacobian Matrix:\n",
      "tensor([[0.3074, 0.4901, 0.4556, 0.3489],\n",
      "        [0.6341, 0.8964, 0.6323, 0.4017]])\n"
     ]
    }
   ],
   "source": [
    "jacobian = torch.zeros(y.size(1), x.size(1))\n",
    "\n",
    "for i in range(y.size(1)):\n",
    "    grad_output = torch.zeros_like(y)\n",
    "    grad_output[:, i] = 1.0\n",
    "    \n",
    "    # delta y_i with respect delta vector x\n",
    "    gradients = torch.autograd.grad(outputs=y, inputs=x, grad_outputs=grad_output, retain_graph=True)[0]\n",
    "    \n",
    "    # the row y_i / x\n",
    "    jacobian[i, :] = gradients\n",
    "\n",
    "print(\"Jacobian Matrix:\")\n",
    "print(jacobian)"
   ]
  },
  {
   "cell_type": "markdown",
   "metadata": {},
   "source": [
    "### Sigmoid gradient"
   ]
  },
  {
   "cell_type": "code",
   "execution_count": null,
   "metadata": {},
   "outputs": [
    {
     "data": {
      "text/plain": [
       "tensor([[2.3195e-16, 5.1091e-12, 8.3153e-07],\n",
       "        [2.2603e-06, 0.0000e+00, 0.0000e+00],\n",
       "        [4.4738e-38, 4.3596e-28, 2.0612e-09]])"
      ]
     },
     "execution_count": 12,
     "metadata": {},
     "output_type": "execute_result"
    }
   ],
   "source": [
    "x = torch.randint(low=0, high=255, size=(3, 3), dtype=torch.float32, requires_grad=True)\n",
    "\n",
    "def sigmoid(x):\n",
    "    return 1 / (1 + torch.exp(-x))\n",
    "\n",
    "y = sigmoid(x)\n",
    "y.backward(gradient=torch.ones(3, 3))\n",
    "\n",
    "x.grad"
   ]
  },
  {
   "cell_type": "code",
   "execution_count": null,
   "metadata": {},
   "outputs": [
    {
     "data": {
      "text/plain": [
       "(tensor([-0.1529], grad_fn=<MeanBackward1>),\n",
       " tensor([0.6644], grad_fn=<StdBackward0>))"
      ]
     },
     "execution_count": 14,
     "metadata": {},
     "output_type": "execute_result"
    }
   ],
   "source": [
    "x = torch.randn(1, 12, requires_grad=True)\n",
    "x.mean(dim=1), x.std(dim=1)"
   ]
  },
  {
   "cell_type": "code",
   "execution_count": null,
   "metadata": {},
   "outputs": [
    {
     "data": {
      "text/plain": [
       "tensor([[0.1981, 0.2500, 0.1559],\n",
       "        [0.2416, 0.2105, 0.2472],\n",
       "        [0.2082, 0.2500, 0.1983]])"
      ]
     },
     "execution_count": 13,
     "metadata": {},
     "output_type": "execute_result"
    }
   ],
   "source": [
    "x = torch.randn(size=(3, 3), dtype=torch.float32, requires_grad=True)\n",
    "\n",
    "def sigmoid(x):\n",
    "    return 1 / (1 + torch.exp(-x))\n",
    "\n",
    "y = sigmoid(x)\n",
    "y.backward(gradient=torch.ones(3, 3))\n",
    "\n",
    "x.grad"
   ]
  },
  {
   "cell_type": "markdown",
   "metadata": {},
   "source": [
    "Activation function will have vanishing or exploding gradient if the input is not in normal distribution"
   ]
  }
 ],
 "metadata": {
  "kernelspec": {
   "display_name": "Python 3",
   "language": "python",
   "name": "python3"
  },
  "language_info": {
   "codemirror_mode": {
    "name": "ipython",
    "version": 3
   },
   "file_extension": ".py",
   "mimetype": "text/x-python",
   "name": "python",
   "nbconvert_exporter": "python",
   "pygments_lexer": "ipython3",
   "version": "3.10.12"
  }
 },
 "nbformat": 4,
 "nbformat_minor": 2
}
