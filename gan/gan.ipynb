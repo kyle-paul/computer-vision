{
 "cells": [
  {
   "cell_type": "markdown",
   "metadata": {},
   "source": [
    "# Generative AI - Generative Adversarial Network\n",
    "\n",
    "GANs are a class of machine learning frameworks designed to generate new data samples that are similar to a given dataset. They consist of two main components: the generator (G) and the discriminator (D).\n",
    "\n",
    "Here's a detailed breakdown of the components and the overall objective:\n",
    "\n",
    "1. **Generator $(G)$**:\n",
    "    - The generator takes a random noise vector $z$ (often sampled from a uniform or normal distribution) as input and maps it to the data space (e.g., an image).\n",
    "    - The goal of the generator is to produce data samples that are indistinguishable from the real data samples by the discriminator.\n",
    "\n",
    "2. **Discriminator $(D)$**:\n",
    "    - The discriminator takes a data sample as input and outputs a probability indicating whether the sample is real (from the training dataset) or fake (produced by the generator).\n",
    "    - The goal of the discriminator is to correctly classify the real and fake samples.\n",
    "\n",
    "3. **Objective Function $V(D,G)$**:\n",
    "    - The value function $V(D,G)$ represents the adversarial game between the generator and the discriminator.\n",
    "    - The traditional objective function for GANs is given by:\n",
    "    $$\n",
    "    V(D, G) = \\mathbb{E}_{x \\sim p_{\\text{data}}(x)}[\\log D(x)] + \\mathbb{E}_{z \\sim p_{z}(z)}[\\log(1 - D(G(z)))]\n",
    "    $$\n",
    "    - Here, $x \\sim p_{\\text{data}}(x)$ represents the real data distribution, and $z \\sim p_{z}(z)$ represents the noise distribution.\n",
    "\n",
    "4. **Minimax Game**:\n",
    "    - The training process of GANs can be seen as a minimax game between the generator and the discriminator.\n",
    "    - The discriminator tries to maximize the value function $V(D,G)$ while the generator tries to minimize it:\n",
    "\n",
    "$$\n",
    "\\min_{G} \\max_{D} V(D, G)\n",
    "$$\n",
    "\n",
    "In simpler terms:\n",
    "- **Discriminator's Role**: The discriminator aims to maximize the probability of correctly identifying real and fake samples. It wants to increase $V(D, G)$ by maximizing $\\log D(x)$ for real samples and $\\log(1 - D(G(z)))$ for fake samples.\n",
    "- **Generator's Role**: The generator aims to minimize the probability that the discriminator correctly identifies fake samples as fake. It wants to decrease $V(D, G)$ by making $D(G(z))$ close to 1, thereby minimizing $log(1 - D(G(z)))$.\n",
    "\n",
    "### Training Algorithm\n",
    "\n",
    "The typical training algorithm for GANs involves iteratively updating the discriminator and the generator:\n",
    "\n",
    "1. **Update Discriminator**:\n",
    "    - Sample a batch of real data samples $\\{x^{(1)}, \\ldots, x^{(m)}\\}$ from the training set.\n",
    "    - Sample a batch of noise vectors $\\{z^{(1)}, \\ldots, z^{(m)}\\}$ from the noise distribution.\n",
    "    - Compute the discriminator's loss and update its parameters to maximize $V(D, G)$:\n",
    "\n",
    "$$\n",
    "\\mathcal{L}_D = -\\frac{1}{m} \\sum_{i=1}^{m} [\\log D(x^{(i)}) + \\log (1 - D(G(z^{(i)})))]\n",
    "$$\n",
    "\n",
    "2. **Update Generator**:\n",
    "    - Sample a batch of noise vectors $\\{z^{(1)}, \\ldots, z^{(m)}\\}$ from the noise distribution.\n",
    "    - Compute the generator's loss and update its parameters to minimize $(D, G)$:\n",
    "\n",
    "$$\n",
    "\\mathcal{L}_G = -\\frac{1}{m} \\sum_{i=1}^{m} \\log D(G(z^{(i)}))\n",
    "$$\n",
    "\n",
    "By alternating these updates, the generator and discriminator improve iteratively. The generator produces increasingly realistic data samples, while the discriminator gets better at distinguishing real from fake samples until an equilibrium is reached.``"
   ]
  }
 ],
 "metadata": {
  "kernelspec": {
   "display_name": "Python 3",
   "language": "python",
   "name": "python3"
  },
  "language_info": {
   "codemirror_mode": {
    "name": "ipython",
    "version": 3
   },
   "file_extension": ".py",
   "mimetype": "text/x-python",
   "name": "python",
   "nbconvert_exporter": "python",
   "pygments_lexer": "ipython3",
   "version": "3.10.12"
  }
 },
 "nbformat": 4,
 "nbformat_minor": 2
}
