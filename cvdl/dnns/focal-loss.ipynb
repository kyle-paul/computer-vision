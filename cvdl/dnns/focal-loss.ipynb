{
 "cells": [
  {
   "cell_type": "code",
   "execution_count": 10,
   "metadata": {},
   "outputs": [],
   "source": [
    "import numpy as np"
   ]
  },
  {
   "cell_type": "markdown",
   "metadata": {},
   "source": [
    "# Focal Loss vs Crosss Entropy"
   ]
  },
  {
   "cell_type": "markdown",
   "metadata": {},
   "source": [
    "## Cross entropy\n",
    "\n",
    "Easy example with ground truth 1"
   ]
  },
  {
   "cell_type": "code",
   "execution_count": 11,
   "metadata": {},
   "outputs": [
    {
     "name": "stdout",
     "output_type": "stream",
     "text": [
      "0.10536051565782628\n"
     ]
    }
   ],
   "source": [
    "y = np.array([1])\n",
    "p = np.array([0.9])\n",
    "\n",
    "def ce(y_i, p_i):\n",
    "  return - (y_i * np.log(p_i) + (1 - y_i) * np.log(1 - p_i))\n",
    "\n",
    "print(ce(y[0], p[0]))"
   ]
  },
  {
   "cell_type": "markdown",
   "metadata": {},
   "source": [
    "Hard example with ground truth 1"
   ]
  },
  {
   "cell_type": "code",
   "execution_count": 12,
   "metadata": {},
   "outputs": [
    {
     "name": "stdout",
     "output_type": "stream",
     "text": [
      "1.2039728043259361\n"
     ]
    }
   ],
   "source": [
    "y = np.array([1])\n",
    "p = np.array([0.3])\n",
    "\n",
    "def ce(y_i, p_i):\n",
    "  return - (y_i * np.log(p_i) + (1 - y_i) * np.log(1 - p_i))\n",
    "\n",
    "print(ce(y[0], p[0]))"
   ]
  },
  {
   "cell_type": "markdown",
   "metadata": {},
   "source": [
    "Easy example with ground truth 0"
   ]
  },
  {
   "cell_type": "code",
   "execution_count": 13,
   "metadata": {},
   "outputs": [
    {
     "name": "stdout",
     "output_type": "stream",
     "text": [
      "0.35667494393873245\n"
     ]
    }
   ],
   "source": [
    "y = np.array([0])\n",
    "p = np.array([0.3])\n",
    "\n",
    "def ce(y_i, p_i):\n",
    "  return - (y_i * np.log(p_i) + (1 - y_i) * np.log(1 - p_i))\n",
    "\n",
    "print(ce(y[0], p[0]))"
   ]
  },
  {
   "cell_type": "code",
   "execution_count": 14,
   "metadata": {},
   "outputs": [
    {
     "name": "stdout",
     "output_type": "stream",
     "text": [
      "2.302585092994046\n"
     ]
    }
   ],
   "source": [
    "y = np.array([0])\n",
    "p = np.array([0.9])\n",
    "\n",
    "def ce(y_i, p_i):\n",
    "  return - (y_i * np.log(p_i) + (1 - y_i) * np.log(1 - p_i))\n",
    "\n",
    "print(ce(y[0], p[0]))"
   ]
  },
  {
   "cell_type": "markdown",
   "metadata": {},
   "source": [
    "Hard example with ground truth 0"
   ]
  },
  {
   "cell_type": "markdown",
   "metadata": {},
   "source": [
    "## Focal Loss"
   ]
  },
  {
   "cell_type": "markdown",
   "metadata": {},
   "source": [
    "Easy example with ground truth 1"
   ]
  },
  {
   "cell_type": "code",
   "execution_count": 15,
   "metadata": {},
   "outputs": [
    {
     "name": "stdout",
     "output_type": "stream",
     "text": [
      "0.0010536051565782623\n"
     ]
    }
   ],
   "source": [
    "y = np.array([1])\n",
    "p = np.array([0.9])\n",
    "\n",
    "def focal(y_i, p_i, alpha=1, gamma=2):\n",
    "  return - alpha * ((1 - p_i)**gamma * y_i * np.log(p_i) + p_i * (1 - y_i) * np.log(1 - p_i))\n",
    "\n",
    "print(focal(y[0], p[0]))"
   ]
  },
  {
   "cell_type": "markdown",
   "metadata": {},
   "source": [
    "Hard example with ground truth 1"
   ]
  },
  {
   "cell_type": "code",
   "execution_count": 16,
   "metadata": {},
   "outputs": [
    {
     "name": "stdout",
     "output_type": "stream",
     "text": [
      "0.5899466741197086\n"
     ]
    }
   ],
   "source": [
    "y = np.array([1])\n",
    "p = np.array([0.3])\n",
    "\n",
    "def focal(y_i, p_i, alpha=1, gamma=2):\n",
    "    return - alpha * ((1 - p_i)**gamma * y_i * np.log(p_i) + p_i * (1 - y_i) * np.log(1 - p_i))\n",
    "\n",
    "print(focal(y[0], p[0]))"
   ]
  },
  {
   "cell_type": "markdown",
   "metadata": {},
   "source": [
    "Easy example with ground truth 0"
   ]
  },
  {
   "cell_type": "code",
   "execution_count": 17,
   "metadata": {},
   "outputs": [
    {
     "name": "stdout",
     "output_type": "stream",
     "text": [
      "0.10700248318161973\n"
     ]
    }
   ],
   "source": [
    "y = np.array([0])\n",
    "p = np.array([0.3])\n",
    "\n",
    "def focal(y_i, p_i, alpha=1, gamma=2):\n",
    "  return - alpha * ((1 - p_i)**gamma * y_i * np.log(p_i) + p_i * (1 - y_i) * np.log(1 - p_i))\n",
    "\n",
    "print(focal(y[0], p[0]))"
   ]
  },
  {
   "cell_type": "markdown",
   "metadata": {},
   "source": [
    "### Check the gradient backward of two losses"
   ]
  },
  {
   "cell_type": "code",
   "execution_count": 18,
   "metadata": {},
   "outputs": [
    {
     "name": "stdout",
     "output_type": "stream",
     "text": [
      "Gradient of CE with respect to w: [0.66521171 2.07878658 0.49890878 0.48227849]\n",
      "Gradient of FL with respect to w: [0.79188105 2.47462829 0.59391079 0.57411376]\n",
      "\n",
      "Gradient of CE with respect to w: [-0.03581028 -0.11190713 -0.02685771 -0.02632056]\n",
      "Gradient of FL with respect to w: [-3.42348959e-05 -1.06984050e-04 -2.56761719e-05 -2.51626485e-05]\n"
     ]
    }
   ],
   "source": [
    "import numpy as np\n",
    "from autograd import grad\n",
    "from autograd import numpy as anp\n",
    "from autograd.scipy.special import expit as sigmoid  # Autograd-compatible sigmoid\n",
    "\n",
    "def forward(w, choice=\"hard\"):\n",
    "    x_easy = np.array([2, 6.25, 1.5, 1.47])\n",
    "    x_hard = anp.array([-0.8, -2.5, -0.6, -0.58])\n",
    "    b = sigmoid(anp.dot(w, x_hard)) if choice == \"hard\" else sigmoid(anp.dot(w, x_easy))\n",
    "    return b\n",
    "\n",
    "def ce(y_i, p_i):\n",
    "    return - (y_i * anp.log(p_i) + (1 - y_i) * anp.log(1 - p_i))\n",
    "\n",
    "def fl(y_i, p_i, alpha=1, gamma=2):\n",
    "    return - alpha * ((1 - p_i)**gamma * y_i * anp.log(p_i) + p_i * (1 - y_i) * anp.log(1 - p_i))\n",
    "\n",
    "y = 1\n",
    "w = np.array([0.5, 0.16, 0.67, 0.68])\n",
    "\n",
    "# Compute the gradients of hard example\n",
    "grad_ce = grad(lambda w: ce(y, forward(w, \"hard\")))\n",
    "grad_fl = grad(lambda w: fl(y, forward(w, \"hard\")))\n",
    "\n",
    "grad_ce_w = grad_ce(w)\n",
    "grad_fl_w = grad_fl(w)\n",
    "\n",
    "print(\"Gradient of CE with respect to w:\", grad_ce_w)\n",
    "print(\"Gradient of FL with respect to w:\", grad_fl_w)\n",
    "print()\n",
    "\n",
    "# Compute the gradients of easy example\n",
    "grad_ce = grad(lambda w: ce(y, forward(w, \"easy\")))\n",
    "grad_fl = grad(lambda w: fl(y, forward(w, \"easy\")))\n",
    "\n",
    "grad_ce_w = grad_ce(w)\n",
    "grad_fl_w = grad_fl(w)\n",
    "\n",
    "print(\"Gradient of CE with respect to w:\", grad_ce_w)\n",
    "print(\"Gradient of FL with respect to w:\", grad_fl_w)"
   ]
  }
 ],
 "metadata": {
  "kernelspec": {
   "display_name": "Python 3",
   "language": "python",
   "name": "python3"
  },
  "language_info": {
   "codemirror_mode": {
    "name": "ipython",
    "version": 3
   },
   "file_extension": ".py",
   "mimetype": "text/x-python",
   "name": "python",
   "nbconvert_exporter": "python",
   "pygments_lexer": "ipython3",
   "version": "3.10.12"
  }
 },
 "nbformat": 4,
 "nbformat_minor": 2
}
