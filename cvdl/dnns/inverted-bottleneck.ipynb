{
  "cells": [
    {
      "cell_type": "code",
      "execution_count": 1,
      "metadata": {
        "id": "tB66inXy0q4r"
      },
      "outputs": [],
      "source": [
        "import torch\n",
        "import torch.nn as nn\n",
        "import torch.nn.functional as F\n",
        "import torchinfo"
      ]
    },
    {
      "cell_type": "code",
      "execution_count": 42,
      "metadata": {
        "id": "Cs_xyuXkEUdO"
      },
      "outputs": [],
      "source": [
        "class Identity(nn.Module):\n",
        "  def __init__(self):\n",
        "    super().__init__()\n",
        "\n",
        "  def forward(self, x):\n",
        "    return x"
      ]
    },
    {
      "cell_type": "code",
      "execution_count": 43,
      "metadata": {
        "id": "2fUIlD2O0ue3"
      },
      "outputs": [],
      "source": [
        "class DepthWise(nn.Module):\n",
        "    def __init__(self, in_channels, kernel_size, stride):\n",
        "        super().__init__()\n",
        "        padding = (kernel_size - 1) // 2\n",
        "        self.conv = nn.Conv2d(\n",
        "            in_channels=in_channels,\n",
        "            out_channels=in_channels,\n",
        "            kernel_size=kernel_size,\n",
        "            stride=stride,\n",
        "            groups=in_channels,\n",
        "            padding=padding,\n",
        "            bias=False,\n",
        "        )\n",
        "        self.bn = nn.BatchNorm2d(num_features=in_channels)\n",
        "        self.relu = nn.ReLU6(inplace=True)\n",
        "\n",
        "    def forward(self, x):\n",
        "        return self.relu(self.bn(self.conv(x)))\n",
        "\n",
        "class PointWise(nn.Module):\n",
        "    def __init__(self, in_channels, out_channels, use_relu=False):\n",
        "        super().__init__()\n",
        "        self.use_relu = use_relu\n",
        "        self.conv_1x1 = nn.Conv2d(\n",
        "            in_channels=in_channels,\n",
        "            out_channels=out_channels,\n",
        "            kernel_size=1,\n",
        "            stride=1,\n",
        "            padding=0,\n",
        "            bias=False,\n",
        "        )\n",
        "        self.bn = nn.BatchNorm2d(num_features=out_channels)\n",
        "        if self.use_relu:\n",
        "            self.relu = nn.ReLU6(inplace=True)\n",
        "\n",
        "    def forward(self, x):\n",
        "        x = self.bn(self.conv_1x1(x))\n",
        "        return self.relu(x) if self.use_relu else x\n",
        "\n",
        "class InvertedResidual(nn.Module):\n",
        "    def __init__(self, in_channels, out_channels, expand_ratio, stride, downsample):\n",
        "        super().__init__()\n",
        "        hidden_dim = int(round(in_channels * expand_ratio))\n",
        "\n",
        "        if downsample is not None:\n",
        "          self.downsample = downsample\n",
        "        else:\n",
        "          self.downsample = Identity()\n",
        "\n",
        "        self.conv1 = PointWise(\n",
        "            in_channels=in_channels,\n",
        "            out_channels=hidden_dim,\n",
        "            use_relu=True,\n",
        "        )\n",
        "\n",
        "        self.conv2 = DepthWise(\n",
        "            in_channels=hidden_dim,\n",
        "            kernel_size=3,\n",
        "            stride=stride,\n",
        "        )\n",
        "\n",
        "        self.conv3 = PointWise(\n",
        "            in_channels=hidden_dim,\n",
        "            out_channels=out_channels,\n",
        "            use_relu=False,\n",
        "        )\n",
        "\n",
        "    def forward(self, x):\n",
        "        shortcut = self.downsample(x)\n",
        "        residual = self.conv3(self.conv2(self.conv1(x)))\n",
        "        return residual + shortcut"
      ]
    },
    {
      "cell_type": "code",
      "execution_count": 44,
      "metadata": {
        "colab": {
          "base_uri": "https://localhost:8080/"
        },
        "id": "b6IJLk3R616k",
        "outputId": "a5e07678-2062-42fe-88ca-0746ba614b9d"
      },
      "outputs": [
        {
          "data": {
            "text/plain": [
              "==========================================================================================\n",
              "Layer (type:depth-idx)                   Output Shape              Param #\n",
              "==========================================================================================\n",
              "InvertedResidual                         [1, 160, 7, 7]            --\n",
              "├─Identity: 1-1                          [1, 160, 7, 7]            --\n",
              "├─PointWise: 1-2                         [1, 960, 7, 7]            --\n",
              "│    └─Conv2d: 2-1                       [1, 960, 7, 7]            153,600\n",
              "│    └─BatchNorm2d: 2-2                  [1, 960, 7, 7]            1,920\n",
              "│    └─ReLU6: 2-3                        [1, 960, 7, 7]            --\n",
              "├─DepthWise: 1-3                         [1, 960, 7, 7]            --\n",
              "│    └─Conv2d: 2-4                       [1, 960, 7, 7]            8,640\n",
              "│    └─BatchNorm2d: 2-5                  [1, 960, 7, 7]            1,920\n",
              "│    └─ReLU6: 2-6                        [1, 960, 7, 7]            --\n",
              "├─PointWise: 1-4                         [1, 160, 7, 7]            --\n",
              "│    └─Conv2d: 2-7                       [1, 160, 7, 7]            153,600\n",
              "│    └─BatchNorm2d: 2-8                  [1, 160, 7, 7]            320\n",
              "==========================================================================================\n",
              "Total params: 320,000\n",
              "Trainable params: 320,000\n",
              "Non-trainable params: 0\n",
              "Total mult-adds (M): 15.48\n",
              "==========================================================================================\n",
              "Input size (MB): 0.03\n",
              "Forward/backward pass size (MB): 1.63\n",
              "Params size (MB): 1.28\n",
              "Estimated Total Size (MB): 2.94\n",
              "=========================================================================================="
            ]
          },
          "execution_count": 44,
          "metadata": {},
          "output_type": "execute_result"
        }
      ],
      "source": [
        "# Trường hợp không biến đổi depth\n",
        "inverted_bn = InvertedResidual(in_channels=160, out_channels=160, expand_ratio=6, stride=1, downsample=None)\n",
        "torchinfo.summary(inverted_bn, (1, 160, 7, 7))"
      ]
    },
    {
      "cell_type": "code",
      "execution_count": 48,
      "metadata": {
        "colab": {
          "base_uri": "https://localhost:8080/"
        },
        "id": "cvUrh_b4FEL-",
        "outputId": "8b01e8a7-9f47-4cd8-b50f-0f6b9bdaca29"
      },
      "outputs": [
        {
          "data": {
            "text/plain": [
              "==========================================================================================\n",
              "Layer (type:depth-idx)                   Output Shape              Param #\n",
              "==========================================================================================\n",
              "InvertedResidual                         [1, 320, 7, 7]            --\n",
              "├─Conv2d: 1-1                            [1, 320, 7, 7]            461,120\n",
              "├─PointWise: 1-2                         [1, 960, 7, 7]            --\n",
              "│    └─Conv2d: 2-1                       [1, 960, 7, 7]            153,600\n",
              "│    └─BatchNorm2d: 2-2                  [1, 960, 7, 7]            1,920\n",
              "│    └─ReLU6: 2-3                        [1, 960, 7, 7]            --\n",
              "├─DepthWise: 1-3                         [1, 960, 7, 7]            --\n",
              "│    └─Conv2d: 2-4                       [1, 960, 7, 7]            8,640\n",
              "│    └─BatchNorm2d: 2-5                  [1, 960, 7, 7]            1,920\n",
              "│    └─ReLU6: 2-6                        [1, 960, 7, 7]            --\n",
              "├─PointWise: 1-4                         [1, 320, 7, 7]            --\n",
              "│    └─Conv2d: 2-7                       [1, 320, 7, 7]            307,200\n",
              "│    └─BatchNorm2d: 2-8                  [1, 320, 7, 7]            640\n",
              "==========================================================================================\n",
              "Total params: 935,040\n",
              "Trainable params: 935,040\n",
              "Non-trainable params: 0\n",
              "Total mult-adds (M): 45.60\n",
              "==========================================================================================\n",
              "Input size (MB): 0.03\n",
              "Forward/backward pass size (MB): 1.88\n",
              "Params size (MB): 3.74\n",
              "Estimated Total Size (MB): 5.65\n",
              "=========================================================================================="
            ]
          },
          "execution_count": 48,
          "metadata": {},
          "output_type": "execute_result"
        }
      ],
      "source": [
        "# Trường hợp biến đổi depth\n",
        "downsample = nn.Conv2d(in_channels=160, out_channels=320, stride=1, kernel_size=3, padding=1)\n",
        "inverted_block = InvertedResidual(in_channels=160, out_channels=320, expand_ratio=6, stride=1, downsample=downsample)\n",
        "torchinfo.summary(inverted_block, (1, 160, 7, 7))"
      ]
    },
    {
      "cell_type": "code",
      "execution_count": 54,
      "metadata": {
        "id": "mrpDUj4F3Bi3"
      },
      "outputs": [],
      "source": [
        "class BottleneckResidual(nn.Module):\n",
        "    def __init__(self, in_channels, out_channels, squeeze_ratio, stride, downsample):\n",
        "        super(BottleneckResidual, self).__init__()\n",
        "\n",
        "        if downsample is not None:\n",
        "          self.downsample = downsample\n",
        "        else:\n",
        "          self.downsample = Identity()\n",
        "\n",
        "        hidden_dim = int(in_channels // squeeze_ratio)\n",
        "\n",
        "        self.conv1 = nn.Conv2d(in_channels, hidden_dim, kernel_size=1, stride=1, bias=False)\n",
        "        self.bn1 = nn.BatchNorm2d(hidden_dim)\n",
        "        self.relu1 = nn.ReLU(inplace=True)\n",
        "\n",
        "        self.conv2 = nn.Conv2d(hidden_dim, hidden_dim, kernel_size=3, stride=1, padding=1, bias=False)\n",
        "        self.bn2 = nn.BatchNorm2d(hidden_dim)\n",
        "        self.relu2 = nn.ReLU(inplace=True)\n",
        "\n",
        "        self.conv3 = nn.Conv2d(hidden_dim, out_channels, kernel_size=1, stride=1, bias=False)\n",
        "        self.bn3 = nn.BatchNorm2d(out_channels)\n",
        "        self.relu3 = nn.ReLU(inplace=True)\n",
        "\n",
        "    def forward(self, x):\n",
        "        shortcut = self.downsample(x)\n",
        "\n",
        "        x = self.conv1(x)\n",
        "        x = self.bn1(x)\n",
        "        x = self.relu1(x)\n",
        "\n",
        "        x = self.conv2(x)\n",
        "        x = self.bn2(x)\n",
        "        x = self.relu2(x)\n",
        "\n",
        "        x = self.conv3(x)\n",
        "        x = self.bn3(x)\n",
        "        x = self.relu3(x)\n",
        "\n",
        "        residual = x\n",
        "        return residual + shortcut"
      ]
    },
    {
      "cell_type": "code",
      "execution_count": 46,
      "metadata": {
        "colab": {
          "base_uri": "https://localhost:8080/"
        },
        "id": "dq7Q40eoC-L8",
        "outputId": "7a1d1456-334a-48fe-9239-d14e959cd365"
      },
      "outputs": [
        {
          "data": {
            "text/plain": [
              "==========================================================================================\n",
              "Layer (type:depth-idx)                   Output Shape              Param #\n",
              "==========================================================================================\n",
              "BottleneckResidual                       [1, 160, 7, 7]            --\n",
              "├─Identity: 1-1                          [1, 160, 7, 7]            --\n",
              "├─Conv2d: 1-2                            [1, 26, 7, 7]             4,160\n",
              "├─BatchNorm2d: 1-3                       [1, 26, 7, 7]             52\n",
              "├─ReLU: 1-4                              [1, 26, 7, 7]             --\n",
              "├─Conv2d: 1-5                            [1, 26, 7, 7]             6,084\n",
              "├─BatchNorm2d: 1-6                       [1, 26, 7, 7]             52\n",
              "├─ReLU: 1-7                              [1, 26, 7, 7]             --\n",
              "├─Conv2d: 1-8                            [1, 160, 7, 7]            4,160\n",
              "├─BatchNorm2d: 1-9                       [1, 160, 7, 7]            320\n",
              "├─ReLU: 1-10                             [1, 160, 7, 7]            --\n",
              "==========================================================================================\n",
              "Total params: 14,828\n",
              "Trainable params: 14,828\n",
              "Non-trainable params: 0\n",
              "Total mult-adds (M): 0.71\n",
              "==========================================================================================\n",
              "Input size (MB): 0.03\n",
              "Forward/backward pass size (MB): 0.17\n",
              "Params size (MB): 0.06\n",
              "Estimated Total Size (MB): 0.26\n",
              "=========================================================================================="
            ]
          },
          "execution_count": 46,
          "metadata": {},
          "output_type": "execute_result"
        }
      ],
      "source": [
        "# Trường hợp không biến đổi depth\n",
        "block = BottleneckResidual(in_channels=160, out_channels=160, squeeze_ratio=6, stride=1, downsample=None)\n",
        "torchinfo.summary(block, (1, 160, 7, 7))"
      ]
    },
    {
      "cell_type": "code",
      "execution_count": 55,
      "metadata": {
        "colab": {
          "base_uri": "https://localhost:8080/"
        },
        "id": "13PLtYfuFl6c",
        "outputId": "485863da-9d46-4e03-eca9-8465f32a28fe"
      },
      "outputs": [
        {
          "data": {
            "text/plain": [
              "==========================================================================================\n",
              "Layer (type:depth-idx)                   Output Shape              Param #\n",
              "==========================================================================================\n",
              "BottleneckResidual                       [1, 320, 7, 7]            --\n",
              "├─Conv2d: 1-1                            [1, 320, 7, 7]            461,120\n",
              "├─Conv2d: 1-2                            [1, 26, 7, 7]             4,160\n",
              "├─BatchNorm2d: 1-3                       [1, 26, 7, 7]             52\n",
              "├─ReLU: 1-4                              [1, 26, 7, 7]             --\n",
              "├─Conv2d: 1-5                            [1, 26, 7, 7]             6,084\n",
              "├─BatchNorm2d: 1-6                       [1, 26, 7, 7]             52\n",
              "├─ReLU: 1-7                              [1, 26, 7, 7]             --\n",
              "├─Conv2d: 1-8                            [1, 320, 7, 7]            8,320\n",
              "├─BatchNorm2d: 1-9                       [1, 320, 7, 7]            640\n",
              "├─ReLU: 1-10                             [1, 320, 7, 7]            --\n",
              "==========================================================================================\n",
              "Total params: 480,428\n",
              "Trainable params: 480,428\n",
              "Non-trainable params: 0\n",
              "Total mult-adds (M): 23.51\n",
              "==========================================================================================\n",
              "Input size (MB): 0.03\n",
              "Forward/backward pass size (MB): 0.42\n",
              "Params size (MB): 1.92\n",
              "Estimated Total Size (MB): 2.37\n",
              "=========================================================================================="
            ]
          },
          "execution_count": 55,
          "metadata": {},
          "output_type": "execute_result"
        }
      ],
      "source": [
        "# Trường hợp biến đổi depth\n",
        "downsample = nn.Conv2d(in_channels=160, out_channels=320, stride=1, kernel_size=3, padding=1)\n",
        "block = BottleneckResidual(in_channels=160, out_channels=320, squeeze_ratio=6, stride=1, downsample=downsample)\n",
        "torchinfo.summary(block, (1, 160, 7, 7))"
      ]
    }
  ],
  "metadata": {
    "colab": {
      "provenance": [],
      "toc_visible": true
    },
    "kernelspec": {
      "display_name": "Python 3",
      "name": "python3"
    },
    "language_info": {
      "codemirror_mode": {
        "name": "ipython",
        "version": 3
      },
      "file_extension": ".py",
      "mimetype": "text/x-python",
      "name": "python",
      "nbconvert_exporter": "python",
      "pygments_lexer": "ipython3",
      "version": "3.10.12"
    }
  },
  "nbformat": 4,
  "nbformat_minor": 0
}
